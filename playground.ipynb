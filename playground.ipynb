{
 "cells": [
  {
   "cell_type": "markdown",
   "metadata": {},
   "source": [
    "# Build-in types (type)\n",
    "## integers\n",
    "## floating point numbers\n",
    "## complex numbers\n",
    "## strings\n",
    "## booleans\n",
    "\n",
    "# Functions \n",
    "## syntax, arguments, return\n",
    "\n",
    "# Input/Output functions(input, print)\n",
    "## introducing console example(SAP)\n",
    "\n",
    "# Decision making if, if/else, if/elif/else\n",
    "## updating our SAP with login check\n",
    "\n",
    "# Repetitions for/while loops\n",
    "## adding error_counter to SAP example\n",
    "\n",
    "# Functions\n",
    "## adding user different options to SAP\n",
    "\n",
    "# Lists \n",
    "## Example from presentation generator with slide names\n",
    "\n",
    "# Dictionaries\n",
    "## Example from presentation with names and coordinates\n",
    "\n",
    "# Files (different flag when opening)\n",
    "## Example write login and password to .txt file \n",
    "## Example read login and password from .txt file"
   ]
  },
  {
   "cell_type": "markdown",
   "metadata": {
    "slideshow": {
     "slide_type": "slide"
    }
   },
   "source": [
    "# Build-in types"
   ]
  },
  {
   "cell_type": "code",
   "execution_count": null,
   "metadata": {
    "slideshow": {
     "slide_type": "fragment"
    }
   },
   "outputs": [],
   "source": [
    "#integers\n",
    "integer_version_1 = 1000000     #int\n",
    "integer_version_2 = 1_000_000   #int (> Python 3.6)\n",
    "\n",
    "#float\n",
    "float_number = 2.8\n",
    "\n",
    "#complex numbers\n",
    "complex_number_v1 = 2 + 1j\n",
    "complex_number_v2 = complex(2, 1)"
   ]
  },
  {
   "cell_type": "code",
   "execution_count": null,
   "metadata": {
    "slideshow": {
     "slide_type": "fragment"
    }
   },
   "outputs": [],
   "source": [
    "## strings\n",
    "my_string_v1 = \"this is my first string\"\n",
    "my_string_v2 = 'this is my second string'\n",
    "my_string_v3 = \"\"\"this is my third string\"\"\"\n",
    "\n",
    "print(my_string_v1)\n",
    "print(my_string_v2)\n",
    "print(my_string_v3)"
   ]
  },
  {
   "cell_type": "code",
   "execution_count": null,
   "metadata": {
    "slideshow": {
     "slide_type": "fragment"
    }
   },
   "outputs": [],
   "source": [
    "having_fun = True\n",
    "is_it_hard = False"
   ]
  },
  {
   "cell_type": "markdown",
   "metadata": {
    "slideshow": {
     "slide_type": "slide"
    }
   },
   "source": [
    "# Functions"
   ]
  },
  {
   "cell_type": "code",
   "execution_count": null,
   "metadata": {},
   "outputs": [],
   "source": [
    "def my_function():\n",
    "    pass"
   ]
  },
  {
   "cell_type": "code",
   "execution_count": null,
   "metadata": {},
   "outputs": [],
   "source": [
    "my_function()"
   ]
  },
  {
   "cell_type": "code",
   "execution_count": null,
   "metadata": {},
   "outputs": [],
   "source": [
    "def greet_me(name):\n",
    "    print(\"Hello \", name)\n",
    "    \n",
    "greet_me(\"Andrey\")"
   ]
  },
  {
   "cell_type": "code",
   "execution_count": null,
   "metadata": {},
   "outputs": [],
   "source": [
    "def double_it(number_to_double):\n",
    "    return number_to_double * 2\n",
    "\n",
    "double_it(10)"
   ]
  },
  {
   "cell_type": "markdown",
   "metadata": {
    "slideshow": {
     "slide_type": "slide"
    }
   },
   "source": [
    "# Input/Output functions"
   ]
  },
  {
   "cell_type": "markdown",
   "metadata": {
    "slideshow": {
     "slide_type": "slide"
    }
   },
   "source": [
    "# Decision making"
   ]
  },
  {
   "cell_type": "markdown",
   "metadata": {
    "slideshow": {
     "slide_type": "slide"
    }
   },
   "source": [
    "# Repetitions"
   ]
  },
  {
   "cell_type": "markdown",
   "metadata": {
    "slideshow": {
     "slide_type": "slide"
    }
   },
   "source": [
    "# Functions"
   ]
  },
  {
   "cell_type": "markdown",
   "metadata": {
    "slideshow": {
     "slide_type": "slide"
    }
   },
   "source": [
    "# Lists"
   ]
  },
  {
   "cell_type": "markdown",
   "metadata": {
    "slideshow": {
     "slide_type": "slide"
    }
   },
   "source": [
    "# Dictionaries"
   ]
  },
  {
   "cell_type": "markdown",
   "metadata": {
    "slideshow": {
     "slide_type": "slide"
    }
   },
   "source": [
    "# Files"
   ]
  },
  {
   "cell_type": "code",
   "execution_count": null,
   "metadata": {},
   "outputs": [],
   "source": []
  },
  {
   "cell_type": "code",
   "execution_count": null,
   "metadata": {
    "slideshow": {
     "slide_type": "subslide"
    }
   },
   "outputs": [],
   "source": [
    "\"\"\"Reading input/ Displaying output\"\"\"\n",
    "input()\n",
    "print()"
   ]
  },
  {
   "cell_type": "code",
   "execution_count": null,
   "metadata": {
    "slideshow": {
     "slide_type": "subslide"
    }
   },
   "outputs": [],
   "source": [
    "Reading input/ Displaying output\n",
    "input()\n",
    "print()"
   ]
  },
  {
   "cell_type": "code",
   "execution_count": null,
   "metadata": {
    "slideshow": {
     "slide_type": "slide"
    }
   },
   "outputs": [],
   "source": [
    "\"\"\"Reading Input\"\"\"\n",
    "#example ->login_to_some_program\n",
    "\n",
    "\n",
    "print(\"##################\")\n",
    "print(\"#      SAP       #\")\n",
    "print(\"##################\")фф\n",
    "\n",
    "login = input(\"Enter your q-number: \")\n",
    "password = input(\"Enter your password: \")\n",
    "\n",
    "print(\"Your login was successful\")\n",
    "\n"
   ]
  },
  {
   "cell_type": "markdown",
   "metadata": {
    "slideshow": {
     "slide_type": "slide"
    }
   },
   "source": [
    "\"\"\"Displaying output\"\"\""
   ]
  },
  {
   "cell_type": "code",
   "execution_count": null,
   "metadata": {},
   "outputs": [],
   "source": [
    "!jupyter nbconvert Desktop/playground/playground.ipynb --to slides --post serve"
   ]
  },
  {
   "cell_type": "code",
   "execution_count": null,
   "metadata": {},
   "outputs": [],
   "source": []
  }
 ],
 "metadata": {
  "celltoolbar": "Slideshow",
  "kernelspec": {
   "display_name": "Python 3",
   "language": "python",
   "name": "python3"
  },
  "language_info": {
   "codemirror_mode": {
    "name": "ipython",
    "version": 3
   },
   "file_extension": ".py",
   "mimetype": "text/x-python",
   "name": "python",
   "nbconvert_exporter": "python",
   "pygments_lexer": "ipython3",
   "version": "3.7.1"
  }
 },
 "nbformat": 4,
 "nbformat_minor": 2
}
